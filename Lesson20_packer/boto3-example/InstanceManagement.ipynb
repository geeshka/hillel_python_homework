{
 "cells": [
  {
   "cell_type": "code",
   "execution_count": null,
   "id": "fabb151d-7752-422c-be2b-f6cbd772d035",
   "metadata": {},
   "outputs": [],
   "source": [
    "###Імпортуємо необхідні бібліотеки для роботи з aws, викликавши сабпроцес, що виконує bash скрипт по встановленню саме необхідних бібліотек."
   ]
  },
  {
   "cell_type": "code",
   "execution_count": 1,
   "id": "e736a1e2-2cfa-4a31-bf3a-d8bd4ec6d4b0",
   "metadata": {
    "tags": []
   },
   "outputs": [
    {
     "name": "stdout",
     "output_type": "stream",
     "text": [
      "Requirement already satisfied: requests in /opt/conda/lib/python3.10/site-packages (from -r requirements.txt (line 1)) (2.29.0)\n",
      "Collecting boto3 (from -r requirements.txt (line 2))\n",
      "  Downloading boto3-1.26.124-py3-none-any.whl (135 kB)\n",
      "\u001b[2K     ━━━━━━━━━━━━━━━━━━━━━━━━━━━━━━━━━━━━━━━ 135.6/135.6 kB 1.6 MB/s eta 0:00:00\n",
      "\u001b[?25hRequirement already satisfied: charset-normalizer<4,>=2 in /opt/conda/lib/python3.10/site-packages (from requests->-r requirements.txt (line 1)) (3.1.0)\n",
      "Requirement already satisfied: idna<4,>=2.5 in /opt/conda/lib/python3.10/site-packages (from requests->-r requirements.txt (line 1)) (3.4)\n",
      "Requirement already satisfied: urllib3<1.27,>=1.21.1 in /opt/conda/lib/python3.10/site-packages (from requests->-r requirements.txt (line 1)) (1.26.15)\n",
      "Requirement already satisfied: certifi>=2017.4.17 in /opt/conda/lib/python3.10/site-packages (from requests->-r requirements.txt (line 1)) (2022.12.7)\n",
      "Collecting botocore<1.30.0,>=1.29.124 (from boto3->-r requirements.txt (line 2))\n",
      "  Downloading botocore-1.29.124-py3-none-any.whl (10.7 MB)\n",
      "\u001b[2K     ━━━━━━━━━━━━━━━━━━━━━━━━━━━━━━━━━━━━━━━━ 10.7/10.7 MB 5.9 MB/s eta 0:00:00\n",
      "\u001b[?25hCollecting jmespath<2.0.0,>=0.7.1 (from boto3->-r requirements.txt (line 2))\n",
      "  Downloading jmespath-1.0.1-py3-none-any.whl (20 kB)\n",
      "Collecting s3transfer<0.7.0,>=0.6.0 (from boto3->-r requirements.txt (line 2))\n",
      "  Downloading s3transfer-0.6.0-py3-none-any.whl (79 kB)\n",
      "\u001b[2K     ━━━━━━━━━━━━━━━━━━━━━━━━━━━━━━━━━━━━━━━━ 79.6/79.6 kB 5.0 MB/s eta 0:00:00\n",
      "\u001b[?25hRequirement already satisfied: python-dateutil<3.0.0,>=2.1 in /opt/conda/lib/python3.10/site-packages (from botocore<1.30.0,>=1.29.124->boto3->-r requirements.txt (line 2)) (2.8.2)\n",
      "Requirement already satisfied: six>=1.5 in /opt/conda/lib/python3.10/site-packages (from python-dateutil<3.0.0,>=2.1->botocore<1.30.0,>=1.29.124->boto3->-r requirements.txt (line 2)) (1.16.0)\n",
      "Installing collected packages: jmespath, botocore, s3transfer, boto3\n",
      "Successfully installed boto3-1.26.124 botocore-1.29.124 jmespath-1.0.1 s3transfer-0.6.0\n"
     ]
    }
   ],
   "source": [
    "import sys\n",
    "import subprocess\n",
    "\n",
    "exit_code = subprocess.check_call([sys.executable, \"-m\", \"pip\", \"install\", \"-r\", \"requirements.txt\"])\n",
    "if exit_code:\n",
    "    raise Exception(\"Non-zero return code when installing the dependencies, please try reinstalling them manually\")"
   ]
  },
  {
   "cell_type": "code",
   "execution_count": null,
   "id": "ed4b792b-914d-418c-8b7e-f3c381873a8a",
   "metadata": {},
   "outputs": [],
   "source": [
    "##Імпортуємо бібліотеки boto3 та requests. Створюємо секьюріті группу. Визначаємо свій ip, з якого якраз і буде доступ по http та ssh на наш інстанс"
   ]
  },
  {
   "cell_type": "code",
   "execution_count": 27,
   "id": "83a82e5e-7558-4769-a035-b61dc7d83307",
   "metadata": {
    "tags": []
   },
   "outputs": [
    {
     "name": "stdout",
     "output_type": "stream",
     "text": [
      "46.98.5.120/32\n",
      "Successfully created security group\n"
     ]
    },
    {
     "data": {
      "text/plain": [
       "{'Return': True,\n",
       " 'SecurityGroupRules': [{'SecurityGroupRuleId': 'sgr-0178b88fd8fdf2681',\n",
       "   'GroupId': 'sg-03782364e77fac8c3',\n",
       "   'GroupOwnerId': '401952100199',\n",
       "   'IsEgress': False,\n",
       "   'IpProtocol': 'tcp',\n",
       "   'FromPort': 80,\n",
       "   'ToPort': 80,\n",
       "   'CidrIpv4': '46.98.5.120/32',\n",
       "   'Description': 'HTTP from my laptop'},\n",
       "  {'SecurityGroupRuleId': 'sgr-0208c102dcfb3ed68',\n",
       "   'GroupId': 'sg-03782364e77fac8c3',\n",
       "   'GroupOwnerId': '401952100199',\n",
       "   'IsEgress': False,\n",
       "   'IpProtocol': 'tcp',\n",
       "   'FromPort': 22,\n",
       "   'ToPort': 22,\n",
       "   'CidrIpv4': '46.98.5.120/32',\n",
       "   'Description': 'SSH from my laptop'}],\n",
       " 'ResponseMetadata': {'RequestId': '35daa868-4541-429b-82db-39610c9f135e',\n",
       "  'HTTPStatusCode': 200,\n",
       "  'HTTPHeaders': {'x-amzn-requestid': '35daa868-4541-429b-82db-39610c9f135e',\n",
       "   'cache-control': 'no-cache, no-store',\n",
       "   'strict-transport-security': 'max-age=31536000; includeSubDomains',\n",
       "   'content-type': 'text/xml;charset=UTF-8',\n",
       "   'content-length': '1251',\n",
       "   'date': 'Tue, 02 May 2023 11:29:25 GMT',\n",
       "   'server': 'AmazonEC2'},\n",
       "  'RetryAttempts': 0}}"
      ]
     },
     "execution_count": 27,
     "metadata": {},
     "output_type": "execute_result"
    }
   ],
   "source": [
    "import boto3\n",
    "import requests\n",
    "\n",
    "group_name = \"packer-sec-group\"\n",
    "ec2_client = boto3.client(\"ec2\", \"eu-central-1\")\n",
    "\n",
    "my_cidr = f'{requests.get(\"https://api.ipify.org?format=json\").json().get(\"ip\", \"127.0.0.1\")}/32'\n",
    "print(my_cidr)\n",
    "\n",
    "output = ec2_client.create_security_group(\n",
    "    Description=\"Security Group for packer\",\n",
    "    GroupName=group_name,\n",
    "    VpcId=\"vpc-0f0802b0c6dd27cb8\"\n",
    ")\n",
    "\n",
    "group_id = output.get('GroupId')\n",
    "print(\"Successfully created security group\")\n",
    "\n",
    "ec2_client.authorize_security_group_ingress(\n",
    "    GroupId=group_id,\n",
    "    IpPermissions=[{\n",
    "        \"IpProtocol\": \"tcp\",\n",
    "        \"FromPort\": 80,\n",
    "        \"ToPort\": 80,\n",
    "        \"IpRanges\": [{\n",
    "            \"CidrIp\": my_cidr,\n",
    "            \"Description\": \"HTTP from my laptop\"\n",
    "        }]\n",
    "    }, {\n",
    "        \"IpProtocol\": \"tcp\",\n",
    "        \"FromPort\": 22,\n",
    "        \"ToPort\": 22,\n",
    "        \"IpRanges\": [{\n",
    "            \"CidrIp\": my_cidr,\n",
    "            \"Description\": \"SSH from my laptop\"\n",
    "        }]\n",
    "    }]\n",
    ")"
   ]
  },
  {
   "cell_type": "code",
   "execution_count": null,
   "id": "b803359b-bd66-4a63-85cf-796726215860",
   "metadata": {},
   "outputs": [],
   "source": [
    "###Знаючи ami id, запускаємо інстанс. Тут має бути параметр IamInstanceProfile, але в моєму акаунті не має IAM Role. Так і не розібралась, як правильно створити. User data docker run прибрала, т.як в моїй амішці docker restart always, тобто сам підіймається при старті машинки."
   ]
  },
  {
   "cell_type": "code",
   "execution_count": 31,
   "id": "916bfd56-e695-496d-bae4-2fcd23a29f8b",
   "metadata": {
    "tags": []
   },
   "outputs": [
    {
     "name": "stdout",
     "output_type": "stream",
     "text": [
      "Launched instances with ids: i-084f6620cb98f8c2d\n",
      "Instances with ids: i-084f6620cb98f8c2d are up and running\n"
     ]
    }
   ],
   "source": [
    "import boto3\n",
    "\n",
    "ami_id = \"ami-0ec6c5012745bfce9\"\n",
    "\n",
    "ec2_client = boto3.client(\"ec2\", \"eu-central-1\")\n",
    "\n",
    "output = ec2_client.run_instances(\n",
    "  MaxCount=1,\n",
    "  MinCount=1,\n",
    "  InstanceType=\"t3.micro\",\n",
    "  ImageId=ami_id,\n",
    "  KeyName=\"geeshka\",\n",
    "  SecurityGroupIds=[\n",
    "    group_id,\n",
    "  ],\n",
    ")\n",
    "\n",
    "instance_ids = list(map(lambda i : i.get(\"InstanceId\"), output.get(\"Instances\")))\n",
    "print(f\"Launched instances with ids: {' '.join(instance_ids)}\")\n",
    "\n",
    "jdun = ec2_client.get_waiter(\"instance_running\")\n",
    "jdun.wait(InstanceIds=instance_ids)\n",
    "print(f\"Instances with ids: {' '.join(instance_ids)} are up and running\")"
   ]
  },
  {
   "cell_type": "code",
   "execution_count": null,
   "id": "5192e01b-bc63-4020-9a81-48e17e89a901",
   "metadata": {},
   "outputs": [],
   "source": [
    "###Дізнаємось публічну адресу інстанса, щоб до нього підключитись по ssh"
   ]
  },
  {
   "cell_type": "code",
   "execution_count": 32,
   "id": "3231f728-439f-4f4d-8d52-526b3a615b35",
   "metadata": {
    "tags": []
   },
   "outputs": [
    {
     "name": "stdout",
     "output_type": "stream",
     "text": [
      "3.77.37.219\n"
     ]
    }
   ],
   "source": [
    "ec2_resource = boto3.resource(\"ec2\", \"eu-central-1\")\n",
    "instance = ec2_resource.Instance(instance_ids[0])\n",
    "print(instance.public_ip_address)"
   ]
  },
  {
   "cell_type": "code",
   "execution_count": null,
   "id": "3b2526ef-096a-47ac-8bf4-e7acdd6fb4a4",
   "metadata": {},
   "outputs": [],
   "source": [
    "###Видаляємо машинку"
   ]
  },
  {
   "cell_type": "code",
   "execution_count": 33,
   "id": "3d818b13-0e0b-4e1e-a676-8343a46e0fb3",
   "metadata": {
    "tags": []
   },
   "outputs": [
    {
     "name": "stdout",
     "output_type": "stream",
     "text": [
      "Instances with ids: i-084f6620cb98f8c2d are terminated\n"
     ]
    }
   ],
   "source": [
    "ec2_client.terminate_instances(InstanceIds=instance_ids)\n",
    "jdun = ec2_client.get_waiter(\"instance_terminated\")\n",
    "jdun.wait(InstanceIds=instance_ids)\n",
    "print(f\"Instances with ids: {' '.join(instance_ids)} are terminated\")"
   ]
  }
 ],
 "metadata": {
  "kernelspec": {
   "display_name": "Python 3 (ipykernel)",
   "language": "python",
   "name": "python3"
  },
  "language_info": {
   "codemirror_mode": {
    "name": "ipython",
    "version": 3
   },
   "file_extension": ".py",
   "mimetype": "text/x-python",
   "name": "python",
   "nbconvert_exporter": "python",
   "pygments_lexer": "ipython3",
   "version": "3.10.10"
  }
 },
 "nbformat": 4,
 "nbformat_minor": 5
}
